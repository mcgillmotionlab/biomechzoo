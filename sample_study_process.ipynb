{
 "cells": [
  {
   "cell_type": "code",
   "id": "initial_id",
   "metadata": {
    "collapsed": true,
    "ExecuteTime": {
     "end_time": "2025-06-26T07:04:59.011755Z",
     "start_time": "2025-06-26T07:04:59.009094Z"
    }
   },
   "source": [
    "# import libraries\n",
    "import os\n",
    "from biomechzoo import BiomechZoo\n",
    "from utils.engine import engine\n",
    "from utils.zload import zload"
   ],
   "outputs": [],
   "execution_count": 11
  },
  {
   "metadata": {
    "ExecuteTime": {
     "end_time": "2025-06-26T07:02:46.082718Z",
     "start_time": "2025-06-26T07:02:46.076622Z"
    }
   },
   "cell_type": "code",
   "source": [
    "# Step 0 get raw data folder and create an instance of biomechZoo class\n",
    "project_root = os.getcwd()\n",
    "fld_raw_data = os.path.join(project_root, 'data', 'sample_study', 'raw c3d files')\n",
    "bmech = BiomechZoo(fld_raw_data, verbose=True)\n"
   ],
   "id": "db9a68b5821a8530",
   "outputs": [
    {
     "name": "stdout",
     "output_type": "stream",
     "text": [
      "BiomechZoo initialized\n",
      "processing folder set to: /Users/phild/Code/biomechzoo/data/sample_study/raw c3d files\n"
     ]
    }
   ],
   "execution_count": 4
  },
  {
   "metadata": {
    "ExecuteTime": {
     "end_time": "2025-06-26T07:03:02.389867Z",
     "start_time": "2025-06-26T07:03:00.675376Z"
    }
   },
   "cell_type": "code",
   "source": [
    "# step 1: convert c3d to zoo\n",
    "bmech.c3d2zoo()"
   ],
   "id": "9c7598babd427999",
   "outputs": [
    {
     "name": "stdout",
     "output_type": "stream",
     "text": [
      "converting c3d to zoo for /Users/phild/Code/biomechzoo/data/sample_study/raw c3d files/HC044A/Straight/HC044A15.c3d\n",
      "converting c3d to zoo for /Users/phild/Code/biomechzoo/data/sample_study/raw c3d files/HC044A/Turn/HC044A29.c3d\n",
      "converting c3d to zoo for /Users/phild/Code/biomechzoo/data/sample_study/raw c3d files/HC044A/Static/HC044A01.c3d\n",
      "converting c3d to zoo for /Users/phild/Code/biomechzoo/data/sample_study/raw c3d files/HC002D/Straight/HC002D06.c3d\n",
      "converting c3d to zoo for /Users/phild/Code/biomechzoo/data/sample_study/raw c3d files/HC002D/Turn/HC002D25.c3d\n",
      "converting c3d to zoo for /Users/phild/Code/biomechzoo/data/sample_study/raw c3d files/HC002D/Static/HC002D02.c3d\n",
      "converting c3d to zoo for /Users/phild/Code/biomechzoo/data/sample_study/raw c3d files/HC030A/Straight/HC030A05.c3d\n",
      "converting c3d to zoo for /Users/phild/Code/biomechzoo/data/sample_study/raw c3d files/HC030A/Turn/HC030A22.c3d\n",
      "converting c3d to zoo for /Users/phild/Code/biomechzoo/data/sample_study/raw c3d files/HC030A/Static/HC030A01.c3d\n",
      "converting c3d to zoo for /Users/phild/Code/biomechzoo/data/sample_study/raw c3d files/HC039A/Straight/HC039A17.c3d\n",
      "converting c3d to zoo for /Users/phild/Code/biomechzoo/data/sample_study/raw c3d files/HC039A/Turn/HC039A31.c3d\n",
      "converting c3d to zoo for /Users/phild/Code/biomechzoo/data/sample_study/raw c3d files/HC039A/Static/HC039A01.c3d\n",
      "converting c3d to zoo for /Users/phild/Code/biomechzoo/data/sample_study/raw c3d files/HC055A/Straight/HC055A09.c3d\n",
      "converting c3d to zoo for /Users/phild/Code/biomechzoo/data/sample_study/raw c3d files/HC055A/Turn/HC055A34.c3d\n",
      "converting c3d to zoo for /Users/phild/Code/biomechzoo/data/sample_study/raw c3d files/HC055A/Static/HC055A01.c3d\n",
      "converting c3d to zoo for /Users/phild/Code/biomechzoo/data/sample_study/raw c3d files/HC033A/Straight/HC033A10.c3d\n",
      "converting c3d to zoo for /Users/phild/Code/biomechzoo/data/sample_study/raw c3d files/HC033A/Turn/HC033A22.c3d\n",
      "converting c3d to zoo for /Users/phild/Code/biomechzoo/data/sample_study/raw c3d files/HC033A/Static/HC033A01.c3d\n",
      "converting c3d to zoo for /Users/phild/Code/biomechzoo/data/sample_study/raw c3d files/HC040A/Straight/HC040A14.c3d\n",
      "converting c3d to zoo for /Users/phild/Code/biomechzoo/data/sample_study/raw c3d files/HC040A/Turn/HC040A40.c3d\n",
      "converting c3d to zoo for /Users/phild/Code/biomechzoo/data/sample_study/raw c3d files/HC040A/Static/HC040A04.c3d\n",
      "converting c3d to zoo for /Users/phild/Code/biomechzoo/data/sample_study/raw c3d files/HC036A/Straight/HC036A10.c3d\n",
      "converting c3d to zoo for /Users/phild/Code/biomechzoo/data/sample_study/raw c3d files/HC036A/Turn/HC036A23.c3d\n",
      "converting c3d to zoo for /Users/phild/Code/biomechzoo/data/sample_study/raw c3d files/HC036A/Static/HC036A01.c3d\n",
      "converting c3d to zoo for /Users/phild/Code/biomechzoo/data/sample_study/raw c3d files/HC050A/Straight/HC050A11.c3d\n",
      "converting c3d to zoo for /Users/phild/Code/biomechzoo/data/sample_study/raw c3d files/HC050A/Turn/HC050A33.c3d\n",
      "converting c3d to zoo for /Users/phild/Code/biomechzoo/data/sample_study/raw c3d files/HC050A/Static/HC050A01.c3d\n",
      "converting c3d to zoo for /Users/phild/Code/biomechzoo/data/sample_study/raw c3d files/HC038A/Straight/HC038A11.c3d\n",
      "converting c3d to zoo for /Users/phild/Code/biomechzoo/data/sample_study/raw c3d files/HC038A/Turn/HC038A27.c3d\n",
      "converting c3d to zoo for /Users/phild/Code/biomechzoo/data/sample_study/raw c3d files/HC038A/Static/HC038A01.c3d\n",
      "converting c3d to zoo for /Users/phild/Code/biomechzoo/data/sample_study/raw c3d files/HC032A/Straight/HC032A03.c3d\n",
      "converting c3d to zoo for /Users/phild/Code/biomechzoo/data/sample_study/raw c3d files/HC032A/Turn/HC032A18.c3d\n",
      "converting c3d to zoo for /Users/phild/Code/biomechzoo/data/sample_study/raw c3d files/HC032A/Static/HC032A01.c3d\n",
      "converting c3d to zoo for /Users/phild/Code/biomechzoo/data/sample_study/raw c3d files/HC031A/Straight/HC031A06.c3d\n",
      "converting c3d to zoo for /Users/phild/Code/biomechzoo/data/sample_study/raw c3d files/HC031A/Turn/HC031A23.c3d\n",
      "converting c3d to zoo for /Users/phild/Code/biomechzoo/data/sample_study/raw c3d files/HC031A/Static/HC031A01.c3d\n"
     ]
    }
   ],
   "execution_count": 5
  },
  {
   "metadata": {
    "ExecuteTime": {
     "end_time": "2025-06-26T07:03:07.445134Z",
     "start_time": "2025-06-26T07:03:06.600989Z"
    }
   },
   "cell_type": "code",
   "source": [
    "# step 2: Remove channels not necessary for analysis\n",
    "ch = ['RHipAngles', 'RKneeAngles', 'RAnkleAngles']\n",
    "bmech.removechannel(ch, mode='keep')"
   ],
   "id": "2a57d63435b8aa04",
   "outputs": [
    {
     "name": "stdout",
     "output_type": "stream",
     "text": [
      "removing channels for /Users/phild/Code/biomechzoo/data/sample_study/raw c3d files/HC044A/Straight/HC044A15.zoo\n",
      "removing channels for /Users/phild/Code/biomechzoo/data/sample_study/raw c3d files/HC044A/Turn/HC044A29.zoo\n",
      "removing channels for /Users/phild/Code/biomechzoo/data/sample_study/raw c3d files/HC044A/Static/HC044A01.zoo\n",
      "removing channels for /Users/phild/Code/biomechzoo/data/sample_study/raw c3d files/HC002D/Straight/HC002D06.zoo\n",
      "removing channels for /Users/phild/Code/biomechzoo/data/sample_study/raw c3d files/HC002D/Turn/HC002D25.zoo\n",
      "removing channels for /Users/phild/Code/biomechzoo/data/sample_study/raw c3d files/HC002D/Static/HC002D02.zoo\n",
      "removing channels for /Users/phild/Code/biomechzoo/data/sample_study/raw c3d files/HC030A/Straight/HC030A05.zoo\n",
      "removing channels for /Users/phild/Code/biomechzoo/data/sample_study/raw c3d files/HC030A/Turn/HC030A22.zoo\n",
      "removing channels for /Users/phild/Code/biomechzoo/data/sample_study/raw c3d files/HC030A/Static/HC030A01.zoo\n",
      "removing channels for /Users/phild/Code/biomechzoo/data/sample_study/raw c3d files/HC039A/Straight/HC039A17.zoo\n",
      "removing channels for /Users/phild/Code/biomechzoo/data/sample_study/raw c3d files/HC039A/Turn/HC039A31.zoo\n",
      "removing channels for /Users/phild/Code/biomechzoo/data/sample_study/raw c3d files/HC039A/Static/HC039A01.zoo\n",
      "removing channels for /Users/phild/Code/biomechzoo/data/sample_study/raw c3d files/HC055A/Straight/HC055A09.zoo\n",
      "removing channels for /Users/phild/Code/biomechzoo/data/sample_study/raw c3d files/HC055A/Turn/HC055A34.zoo\n",
      "removing channels for /Users/phild/Code/biomechzoo/data/sample_study/raw c3d files/HC055A/Static/HC055A01.zoo\n",
      "removing channels for /Users/phild/Code/biomechzoo/data/sample_study/raw c3d files/HC033A/Straight/HC033A10.zoo\n",
      "removing channels for /Users/phild/Code/biomechzoo/data/sample_study/raw c3d files/HC033A/Turn/HC033A22.zoo\n",
      "removing channels for /Users/phild/Code/biomechzoo/data/sample_study/raw c3d files/HC033A/Static/HC033A01.zoo\n",
      "removing channels for /Users/phild/Code/biomechzoo/data/sample_study/raw c3d files/HC040A/Straight/HC040A14.zoo\n",
      "removing channels for /Users/phild/Code/biomechzoo/data/sample_study/raw c3d files/HC040A/Turn/HC040A40.zoo\n",
      "removing channels for /Users/phild/Code/biomechzoo/data/sample_study/raw c3d files/HC040A/Static/HC040A04.zoo\n",
      "removing channels for /Users/phild/Code/biomechzoo/data/sample_study/raw c3d files/HC036A/Straight/HC036A10.zoo\n",
      "removing channels for /Users/phild/Code/biomechzoo/data/sample_study/raw c3d files/HC036A/Turn/HC036A23.zoo\n",
      "removing channels for /Users/phild/Code/biomechzoo/data/sample_study/raw c3d files/HC036A/Static/HC036A01.zoo\n",
      "removing channels for /Users/phild/Code/biomechzoo/data/sample_study/raw c3d files/HC050A/Straight/HC050A11.zoo\n",
      "removing channels for /Users/phild/Code/biomechzoo/data/sample_study/raw c3d files/HC050A/Turn/HC050A33.zoo\n",
      "removing channels for /Users/phild/Code/biomechzoo/data/sample_study/raw c3d files/HC050A/Static/HC050A01.zoo\n",
      "removing channels for /Users/phild/Code/biomechzoo/data/sample_study/raw c3d files/HC038A/Straight/HC038A11.zoo\n",
      "removing channels for /Users/phild/Code/biomechzoo/data/sample_study/raw c3d files/HC038A/Turn/HC038A27.zoo\n",
      "removing channels for /Users/phild/Code/biomechzoo/data/sample_study/raw c3d files/HC038A/Static/HC038A01.zoo\n",
      "removing channels for /Users/phild/Code/biomechzoo/data/sample_study/raw c3d files/HC032A/Straight/HC032A03.zoo\n",
      "removing channels for /Users/phild/Code/biomechzoo/data/sample_study/raw c3d files/HC032A/Turn/HC032A18.zoo\n",
      "removing channels for /Users/phild/Code/biomechzoo/data/sample_study/raw c3d files/HC032A/Static/HC032A01.zoo\n",
      "removing channels for /Users/phild/Code/biomechzoo/data/sample_study/raw c3d files/HC031A/Straight/HC031A06.zoo\n",
      "removing channels for /Users/phild/Code/biomechzoo/data/sample_study/raw c3d files/HC031A/Turn/HC031A23.zoo\n",
      "removing channels for /Users/phild/Code/biomechzoo/data/sample_study/raw c3d files/HC031A/Static/HC031A01.zoo\n"
     ]
    }
   ],
   "execution_count": 6
  },
  {
   "metadata": {
    "ExecuteTime": {
     "end_time": "2025-06-26T07:43:03.724054Z",
     "start_time": "2025-06-26T07:43:03.671207Z"
    }
   },
   "cell_type": "code",
   "source": [
    "# let's look at a single file now\n",
    "import matplotlib.pyplot as plt\n",
    "fld = bmech.folder\n",
    "fl = engine(fld, extension='.zoo',name_contains='HC032')[0]\n",
    "data = zload(fl)\n",
    "array_to_plot = data['RKneeAngles']['line']\n",
    "plt.figure()\n",
    "plt.plot(array_to_plot)\n",
    "plt.title('RKneeAngles')\n",
    "plt.xlabel('Frame or Time')\n",
    "plt.ylabel('Angle (degrees)')\n",
    "plt.grid(True)\n",
    "plt.show()\n"
   ],
   "id": "2eac3c289ad166f4",
   "outputs": [
    {
     "ename": "IndexError",
     "evalue": "only integers, slices (`:`), ellipsis (`...`), numpy.newaxis (`None`) and integer or boolean arrays are valid indices",
     "output_type": "error",
     "traceback": [
      "\u001B[0;31m---------------------------------------------------------------------------\u001B[0m",
      "\u001B[0;31mIndexError\u001B[0m                                Traceback (most recent call last)",
      "Cell \u001B[0;32mIn[16], line 6\u001B[0m\n\u001B[1;32m      4\u001B[0m fl \u001B[38;5;241m=\u001B[39m engine(fld, extension\u001B[38;5;241m=\u001B[39m\u001B[38;5;124m'\u001B[39m\u001B[38;5;124m.zoo\u001B[39m\u001B[38;5;124m'\u001B[39m,name_contains\u001B[38;5;241m=\u001B[39m\u001B[38;5;124m'\u001B[39m\u001B[38;5;124mHC032\u001B[39m\u001B[38;5;124m'\u001B[39m)[\u001B[38;5;241m0\u001B[39m]\n\u001B[1;32m      5\u001B[0m data \u001B[38;5;241m=\u001B[39m zload(fl)\n\u001B[0;32m----> 6\u001B[0m array_to_plot \u001B[38;5;241m=\u001B[39m \u001B[43mdata\u001B[49m\u001B[43m[\u001B[49m\u001B[38;5;124;43m'\u001B[39;49m\u001B[38;5;124;43mRKneeAngles\u001B[39;49m\u001B[38;5;124;43m'\u001B[39;49m\u001B[43m]\u001B[49m\u001B[43m[\u001B[49m\u001B[38;5;124;43m'\u001B[39;49m\u001B[38;5;124;43mline\u001B[39;49m\u001B[38;5;124;43m'\u001B[39;49m\u001B[43m]\u001B[49m\n\u001B[1;32m      7\u001B[0m plt\u001B[38;5;241m.\u001B[39mfigure()\n\u001B[1;32m      8\u001B[0m plt\u001B[38;5;241m.\u001B[39mplot(array_to_plot)\n",
      "\u001B[0;31mIndexError\u001B[0m: only integers, slices (`:`), ellipsis (`...`), numpy.newaxis (`None`) and integer or boolean arrays are valid indices"
     ]
    }
   ],
   "execution_count": 16
  }
 ],
 "metadata": {
  "kernelspec": {
   "display_name": "Python 3",
   "language": "python",
   "name": "python3"
  },
  "language_info": {
   "codemirror_mode": {
    "name": "ipython",
    "version": 2
   },
   "file_extension": ".py",
   "mimetype": "text/x-python",
   "name": "python",
   "nbconvert_exporter": "python",
   "pygments_lexer": "ipython2",
   "version": "2.7.6"
  }
 },
 "nbformat": 4,
 "nbformat_minor": 5
}
